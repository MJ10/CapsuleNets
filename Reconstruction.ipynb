{
 "cells": [
  {
   "cell_type": "code",
   "execution_count": 24,
   "metadata": {
    "collapsed": true
   },
   "outputs": [],
   "source": [
    "import tensorflow as tf\n",
    "import numpy as np\n",
    "import pandas as pd\n",
    "from model import load"
   ]
  },
  {
   "cell_type": "code",
   "execution_count": 3,
   "metadata": {
    "collapsed": true
   },
   "outputs": [],
   "source": [
    "import matplotlib.pyplot as plt"
   ]
  },
  {
   "cell_type": "code",
   "execution_count": 5,
   "metadata": {
    "collapsed": true
   },
   "outputs": [],
   "source": [
    "VALIDATION_SIZE = 5000\n",
    "BATCH_SIZE, EPOCHS, ROUTING_ITERATIONS = 128, 100, 3\n",
    "LAMBDA = 0.5\n",
    "M_PLUS = 0.9\n",
    "M_MINUS = 0.1\n",
    "EPSILON = 1e-15\n",
    "RECONSTRUCTION_LOSS_CONT = 5e-4 * 784\n",
    "IMAGE_HEIGHT = IMAGE_WIDTH = 28\n",
    "CONV_KERNEL_SIZE = 9\n",
    "CONV_FILTERS = 256\n",
    "CONV_STRIDE = 1\n",
    "CAPSULE_STRIDE = 2\n",
    "CAPSULE_KERNEL_SIZE = 9\n",
    "CAPSULE_DIM = 8\n",
    "CAPSULE_FILTERS = 32\n",
    "CAPSULE_OUT_DIM = 16\n",
    "CLASSES = 10\n",
    "RECON_NET_1, RECON_NET_2, RECON_NET_3 = 512, 1024, IMAGE_HEIGHT * IMAGE_WIDTH\n",
    "\n",
    "data = pd.read_csv('train.csv')\n",
    "\n",
    "train_df = data.iloc[:, 1:].values\n",
    "train_df = train_df.astype(np.float)\n",
    "\n",
    "train_df = np.multiply(train_df, 1.0 / 255.0)\n",
    "\n",
    "labels_flat = data.iloc[:, 0].values.ravel()\n",
    "\n",
    "\n",
    "def dense_to_one_hot(labels_dense, num_classes):\n",
    "    num_labels = labels_dense.shape[0]\n",
    "    index_offset = np.arange(num_labels) * num_classes\n",
    "    labels_one_hot = np.zeros((num_labels, num_classes))\n",
    "    labels_one_hot.flat[index_offset + labels_dense.ravel()] = 1\n",
    "    return labels_one_hot\n",
    "\n",
    "\n",
    "labels = dense_to_one_hot(labels_flat, CLASSES)\n",
    "labels = labels.astype(np.uint8)\n",
    "\n",
    "\n",
    "validation_data = train_df[:VALIDATION_SIZE]\n",
    "validation_labels = labels[:VALIDATION_SIZE]\n",
    "\n",
    "train_data = train_df[VALIDATION_SIZE:]\n",
    "train_labels = labels[VALIDATION_SIZE:]\n",
    "\n",
    "epochs_completed = 0\n",
    "index_in_epoch = 0\n",
    "num_examples = train_data.shape[0]\n",
    "\n",
    "\n",
    "def next_batch(batch_size):\n",
    "    global train_data\n",
    "    global train_labels\n",
    "    global index_in_epoch\n",
    "    global epochs_completed\n",
    "\n",
    "    start = index_in_epoch\n",
    "    index_in_epoch += batch_size\n",
    "\n",
    "    if index_in_epoch > num_examples:\n",
    "        # finished epoch\n",
    "        epochs_completed += 1\n",
    "        # shuffle the data\n",
    "        perm = np.arange(num_examples)\n",
    "        np.random.shuffle(perm)\n",
    "        train_data = train_data[perm]\n",
    "        train_labels = train_labels[perm]\n",
    "        # start next epoch\n",
    "        start = 0\n",
    "        index_in_epoch = batch_size\n",
    "        assert batch_size <= num_examples\n",
    "    end = index_in_epoch\n",
    "    return train_data[start:end], train_labels[start:end]\n",
    "\n",
    "\n",
    "def squash(x, axis):\n",
    "    sq_norm = tf.reduce_sum(tf.square(x), axis=axis, keep_dims=True)\n",
    "    scalar_factor = sq_norm / (1 + sq_norm) / tf.sqrt(sq_norm + EPSILON)\n",
    "    return tf.multiply(scalar_factor, x)\n",
    "\n",
    "\n",
    "def placeholder(type, shape, name):\n",
    "    return tf.placeholder(type, shape=shape, name=name)\n",
    "\n",
    "\n",
    "def conv_layer(ip, filters, kernel_size, strides, name):\n",
    "    return tf.layers.conv2d(ip, filters, kernel_size, strides, padding='VALID',\n",
    "                            use_bias=True, bias_initializer=tf.zeros_initializer,\n",
    "                            kernel_initializer=tf.contrib.layers.xavier_initializer(),\n",
    "                            activation=tf.nn.relu, name=name)\n",
    "\n",
    "\n",
    "X = placeholder(tf.float32, (None, IMAGE_WIDTH, IMAGE_HEIGHT, 1), 'X')\n",
    "y = placeholder(tf.float32, (None, CLASSES), 'y')\n",
    "\n",
    "with tf.variable_scope('conv1'):\n",
    "    conv1 = conv_layer(X, CONV_FILTERS, CONV_KERNEL_SIZE, CONV_STRIDE, 'conv_layer')\n",
    "\n",
    "with tf.variable_scope('prime_caps'):\n",
    "    prime_caps = conv_layer(conv1, CAPSULE_DIM * CAPSULE_FILTERS, CAPSULE_KERNEL_SIZE,\n",
    "                            CAPSULE_STRIDE, 'prime_caps')\n",
    "\n",
    "    prime_caps = tf.reshape(prime_caps, shape=(BATCH_SIZE,\n",
    "                                               6 * 6 * CAPSULE_FILTERS, 1,\n",
    "                                               CAPSULE_DIM, 1))\n",
    "    prime_caps = tf.tile(prime_caps, multiples=[1, 1, CLASSES, 1, 1])\n",
    "\n",
    "    prime_caps = squash(prime_caps, axis=3)\n",
    "\n",
    "W = tf.get_variable('W', dtype=tf.float32,\n",
    "                    initializer=tf.random_normal_initializer(stddev=0.1),\n",
    "                    shape=(1, 6 * 6 * CAPSULE_FILTERS,\n",
    "                           CLASSES, CAPSULE_DIM, CAPSULE_OUT_DIM))\n",
    "\n",
    "W = tf.tile(W, multiples=[BATCH_SIZE, 1, 1, 1, 1], name='tiledW')\n",
    "\n",
    "with tf.variable_scope('capsule_to_digits'):\n",
    "    u = tf.matmul(W, prime_caps, transpose_a=True)\n",
    "    u = tf.reshape(tf.squeeze(u), (-1, 6 * 6 * CAPSULE_FILTERS,\n",
    "                                   CAPSULE_OUT_DIM, CLASSES), name='u')\n",
    "\n",
    "    b = tf.zeros((BATCH_SIZE, 6 * 6 * CAPSULE_FILTERS, CLASSES), dtype=tf.float32, name='b')\n",
    "\n",
    "    for routing_iter in range(ROUTING_ITERATIONS):\n",
    "        with tf.variable_scope('route_'+str(routing_iter)):\n",
    "            c = tf.nn.softmax(b, dim=2)\n",
    "            c = tf.reshape(c, shape=(BATCH_SIZE, 6 * 6 * CAPSULE_FILTERS, 1, CLASSES))\n",
    "\n",
    "            s = tf.reduce_sum(u * c, axis=1, keep_dims=False)\n",
    "\n",
    "            v = squash(s, axis=1)\n",
    "\n",
    "            if routing_iter < ROUTING_ITERATIONS - 1:\n",
    "                v_routed = tf.reshape(v, shape=(-1, 1, CAPSULE_OUT_DIM, CLASSES))\n",
    "\n",
    "                uv = tf.reduce_sum(u * v_routed, axis=2, name='uv')\n",
    "\n",
    "                b += uv\n",
    "\n",
    "with tf.variable_scope('reconstruction_loss'):\n",
    "    v_masked = tf.multiply(v, tf.reshape(y, (-1, 1, CLASSES)))\n",
    "    v_masked = tf.reduce_sum(v_masked, axis=2, name='v_masked')\n",
    "\n",
    "    layer1 = tf.layers.dense(v_masked, RECON_NET_1, activation=tf.nn.relu,\n",
    "                             use_bias=True, kernel_initializer=tf.random_normal_initializer)\n",
    "    layer2 = tf.layers.dense(layer1, RECON_NET_2, activation=tf.nn.relu,\n",
    "                             use_bias=True, kernel_initializer=tf.random_normal_initializer)\n",
    "\n",
    "    layer3 = tf.layers.dense(layer2, RECON_NET_3, activation=tf.nn.relu,\n",
    "                             use_bias=True, kernel_initializer=tf.random_normal_initializer)\n",
    "\n",
    "    reconstruction_loss = tf.reduce_mean(tf.square(layer3 - tf.reshape(X, (-1, 784))),\n",
    "                                         name='reconstruction_loss')"
   ]
  },
  {
   "cell_type": "code",
   "execution_count": 6,
   "metadata": {
    "collapsed": true
   },
   "outputs": [],
   "source": [
    "sess = tf.InteractiveSession()"
   ]
  },
  {
   "cell_type": "code",
   "execution_count": 7,
   "metadata": {},
   "outputs": [
    {
     "name": "stdout",
     "output_type": "stream",
     "text": [
      "Reading checkpoints...\n",
      "INFO:tensorflow:Restoring parameters from checkpoints/CapsuleNet/CapsuleNet-0\n",
      "Successfully read CapsuleNet-0\n"
     ]
    }
   ],
   "source": [
    "sess, _ = load(sess)"
   ]
  },
  {
   "cell_type": "code",
   "execution_count": 8,
   "metadata": {
    "collapsed": true
   },
   "outputs": [],
   "source": [
    "x_batch, y_batch = next_batch(BATCH_SIZE)\n",
    "x_batch = x_batch.reshape((-1, IMAGE_WIDTH, IMAGE_HEIGHT, 1))\n",
    "rec = sess.run(layer3, feed_dict={X: x_batch, y: y_batch})"
   ]
  },
  {
   "cell_type": "code",
   "execution_count": 9,
   "metadata": {
    "collapsed": true
   },
   "outputs": [],
   "source": [
    "rec = rec.reshape((-1, IMAGE_HEIGHT, IMAGE_WIDTH, 1))"
   ]
  },
  {
   "cell_type": "code",
   "execution_count": 20,
   "metadata": {},
   "outputs": [],
   "source": [
    "sample = rec[10].reshape((IMAGE_WIDTH, IMAGE_HEIGHT))"
   ]
  },
  {
   "cell_type": "code",
   "execution_count": 21,
   "metadata": {},
   "outputs": [
    {
     "data": {
      "image/png": "[encoded data removed]",
      "text/plain": [
       "<matplotlib.figure.Figure at 0x7f6b79e32da0>"
      ]
     },
     "metadata": {},
     "output_type": "display_data"
    }
   ],
   "source": [
    "import matplotlib\n",
    "plt.imshow(sample, cmap=matplotlib.cm.binary)\n",
    "plt.show()"
   ]
  },
  {
   "cell_type": "code",
   "execution_count": 22,
   "metadata": {
    "collapsed": true
   },
   "outputs": [],
   "source": [
    "sample_act = x_batch[10].reshape((IMAGE_HEIGHT, IMAGE_WIDTH))"
   ]
  },
  {
   "cell_type": "code",
   "execution_count": 23,
   "metadata": {},
   "outputs": [
    {
     "data": {
      "image/png": "[encoded data removed]",
      "text/plain": [
       "<matplotlib.figure.Figure at 0x7f6b79e3d940>"
      ]
     },
     "metadata": {},
     "output_type": "display_data"
    }
   ],
   "source": [
    "plt.imshow(sample_act, cmap=matplotlib.cm.binary)\n",
    "plt.show()"
   ]
  }
 ],
 "metadata": {
  "kernelspec": {
   "display_name": "Python 3",
   "language": "python",
   "name": "python3"
  },
  "language_info": {
   "codemirror_mode": {
    "name": "ipython",
    "version": 3
   },
   "file_extension": ".py",
   "mimetype": "text/x-python",
   "name": "python",
   "nbconvert_exporter": "python",
   "pygments_lexer": "ipython3",
   "version": "3.5.2"
  }
 },
 "nbformat": 4,
 "nbformat_minor": 2
}
